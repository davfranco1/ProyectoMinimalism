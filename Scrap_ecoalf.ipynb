{
 "cells": [
  {
   "cell_type": "code",
   "execution_count": 4,
   "metadata": {},
   "outputs": [],
   "source": [
    "# Importamos las librerías que necesitamos\n",
    "\n",
    "# Librerías de extracción de datos\n",
    "# -----------------------------------------------------------------------\n",
    "\n",
    "# Importaciones:\n",
    "# Beautifulsoup\n",
    "from bs4 import BeautifulSoup\n",
    "\n",
    "# Requests\n",
    "import requests\n",
    "\n",
    "# Importar librerías para automatización de navegadores web con Selenium\n",
    "# -----------------------------------------------------------------------\n",
    "from selenium import webdriver  # Selenium es una herramienta para automatizar la interacción con navegadores web.\n",
    "from webdriver_manager.chrome import ChromeDriverManager  # ChromeDriverManager gestiona la instalación del controlador de Chrome.\n",
    "from selenium.webdriver.common.keys import Keys  # Keys es útil para simular eventos de teclado en Selenium.\n",
    "from selenium.webdriver.support.ui import Select  # Select se utiliza para interactuar con elementos <select> en páginas web.\n",
    "from selenium.webdriver.support.ui import WebDriverWait\n",
    "from selenium.webdriver.support import expected_conditions as EC\n",
    "from selenium.common.exceptions import NoSuchElementException # Excepciones comunes de selenium que nos podemos encontrar \n",
    "\n",
    "\n",
    "# Importar librerías para pausar la ejecución\n",
    "# -----------------------------------------------------------------------\n",
    "from time import sleep  # Sleep se utiliza para pausar la ejecución del programa por un número de segundos.\n",
    "\n",
    "# Librerías para tratamiento de datos\n",
    "# -----------------------------------------------------------------------\n",
    "import pandas as pd\n",
    "import numpy as np\n",
    "\n",
    "import sys\n",
    "sys.path.append(\"../\")\n",
    "from src import soporte_eco\n",
    "pd.set_option('display.max_rows', None)\n",
    "from collections import Counter\n",
    "import random\n"
   ]
  },
  {
   "cell_type": "code",
   "execution_count": 5,
   "metadata": {},
   "outputs": [
    {
     "name": "stdout",
     "output_type": "stream",
     "text": [
      "Hemos clickado en la x\n",
      "Cantidad de chaquetas encontradas: 57\n",
      "Hay 43 chaquetas\n",
      "Hay 36 precios\n"
     ]
    }
   ],
   "source": [
    "#Vamos a scrapear ecoalf\n",
    "\n",
    "#Accedemos a la página\n",
    "driver = webdriver.Chrome()\n",
    "url = \"https://ecoalf.com/collections/abrigos-y-chaquetas-210-hombre\"\n",
    "driver.get(url)\n",
    "driver.maximize_window()\n",
    "sleep(10)\n",
    "driver.execute_script(f\"window.scrollTo(0, {0,20});\")\n",
    "\n",
    "WebDriverWait(driver,5).until(EC.presence_of_element_located((\"xpath\",\"/html/body/div[1]/div/div[1]/div/div[2]/button[2]\"))).click()\n",
    "print(\"Hemos clickado en la x\")\n",
    "\n",
    "#Scrolleamos hasta el final para que cargue toda la página, de 200 en 200 para que cargue tranquilamente\n",
    "altura_pagina = driver.execute_script(\"return document.body.scrollHeight\")\n",
    "for y in range(0, altura_pagina, 200):\n",
    "    driver.execute_script(f\"window.scrollTo(0, {y});\")\n",
    "    altura_pagina = driver.execute_script(\"return document.body.scrollHeight\")\n",
    "    sleep(2)\n",
    "\n",
    "\n",
    "# Usamos BeautifulSoup para analizar el HTML de la página cargada\n",
    "sopa_chaquetas_ecoalf = BeautifulSoup(driver.page_source, \"html.parser\")\n",
    "\n",
    "# Extraemos todos los enlaces de chaquetas\n",
    "nombre_chaqueta = sopa_chaquetas_ecoalf.find_all(\"a\", class_=\"full-unstyled-link\")\n",
    "\n",
    "# Mostramos la cantidad de chaquetas encontradas\n",
    "print(f\"Cantidad de chaquetas encontradas: {len(nombre_chaqueta)}\")\n",
    "\n",
    "# Cerramos el navegador\n",
    "driver.quit()\n",
    "\n",
    "\n",
    "# #Sacamos las categorías y género\n",
    "denominacion_url = url.rsplit(\"-\")\n",
    "genero = denominacion_url[-1]\n",
    "categoria = denominacion_url[-3]\n",
    "\n",
    "\n",
    "nombre_chaqueta = sopa_chaquetas_ecoalf.findAll(\"a\", class_= \"full-unstyled-link\")\n",
    "\n",
    "precios_chaquetas = sopa_chaquetas_ecoalf.find_all(\"div\", class_=\"price__regular price-item price-item--regular\")\n",
    "\n",
    "#Le quitamos los headers a nombre_chaqueta\n",
    "nombre_chaqueta = nombre_chaqueta[14:]\n",
    "print(f\"Hay {len(nombre_chaqueta)} chaquetas\")\n",
    "print(f\"Hay {len(precios_chaquetas)} precios\")\n"
   ]
  },
  {
   "cell_type": "code",
   "execution_count": 6,
   "metadata": {},
   "outputs": [],
   "source": [
    "\n",
    "# Buscar todos los elementos <a> con la clase \"full-unstyled-link\"\n",
    "enlaces = sopa_chaquetas_ecoalf.find_all(\"a\", class_=\"full-unstyled-link\")\n",
    "\n",
    "# Extraer el atributo 'href' de cada enlace\n",
    "links = [enlace['href'] for enlace in enlaces if 'href' in enlace.attrs]\n",
    "links = links[14:]\n",
    "\n",
    "links_completos = [\"https://ecoalf.com\" + i for i in links]"
   ]
  },
  {
   "cell_type": "code",
   "execution_count": 7,
   "metadata": {},
   "outputs": [
    {
     "data": {
      "text/plain": [
       "['https://ecoalf.com/products/venuealf-jacket-man-deep-navy-aw24',\n",
       " 'https://ecoalf.com/products/graysalf-jacket-man-deep-navy-aw24',\n",
       " 'https://ecoalf.com/products/livornoalf-jacket-man-black-aw24',\n",
       " 'https://ecoalf.com/products/velanalf-jacket-man-deep-navy-aw24',\n",
       " 'https://ecoalf.com/products/pasualf-jacket-man-deep-navy-aw24',\n",
       " 'https://ecoalf.com/products/venuealf-jacket-man-woodland-green-aw24',\n",
       " 'https://ecoalf.com/products/vinsonalf-jacket-man-dark-olive-aw24',\n",
       " 'https://ecoalf.com/products/new-icebergalf-jacket-man-woodland-green-aw24',\n",
       " 'https://ecoalf.com/products/parkoalf-jacket-man-deepnavy-aw24',\n",
       " 'https://ecoalf.com/products/vinsonalf-jacket-man-deep-navy-aw24',\n",
       " 'https://ecoalf.com/products/cartesalf-jacket-man-dark-olive-aw24',\n",
       " 'https://ecoalf.com/products/new-vintagealf-jacket-man-anthracite-aw24',\n",
       " 'https://ecoalf.com/products/graysalf-jacket-man-armygreen-aw24',\n",
       " 'https://ecoalf.com/products/new-icebergalf-jacket-man-deep-navy-aw24',\n",
       " 'https://ecoalf.com/products/parkoalf-jacket-man-woodland-green-aw24',\n",
       " 'https://ecoalf.com/products/aspenalf-jacket-man-deep-navy-aw24',\n",
       " 'https://ecoalf.com/products/aspenalf-jacket-man-deep-navy-aw24',\n",
       " 'https://ecoalf.com/products/croninalf-jacket-man-armygreen-aw24',\n",
       " 'https://ecoalf.com/products/parkoalf-jacket-man-black-aw24',\n",
       " 'https://ecoalf.com/products/lawualf-jacket-man-khaki-aw24',\n",
       " 'https://ecoalf.com/products/aorakialf-vest-man-anthracite-aw24',\n",
       " 'https://ecoalf.com/products/alpenalf-jacket-man-deep-navy-aw24',\n",
       " 'https://ecoalf.com/products/new-beretalf-jacket-man-caviar-aw24',\n",
       " 'https://ecoalf.com/products/new-beretalf-jacket-man-caviar-aw24',\n",
       " 'https://ecoalf.com/products/aorakialf-vest-man-deep-navy-aw24',\n",
       " 'https://ecoalf.com/products/lawualf-jacket-man-asphalt-aw24',\n",
       " 'https://ecoalf.com/products/new-beretalf-jacket-man-steelblue-aw24',\n",
       " 'https://ecoalf.com/products/new-beretalf-jacket-man-steelblue-aw24',\n",
       " 'https://ecoalf.com/products/sadelalf-vest-man-stone-aw24',\n",
       " 'https://ecoalf.com/products/niwaalf-jacket-woman-black-aw24',\n",
       " 'https://ecoalf.com/products/aspenalf-jacket-man-lightgrey-aw24',\n",
       " 'https://ecoalf.com/products/aspenalf-jacket-man-lightgrey-aw24',\n",
       " 'https://ecoalf.com/products/new-beretalf-jacket-man-woodland-green-aw24',\n",
       " 'https://ecoalf.com/products/new-beretalf-jacket-man-woodland-green-aw24',\n",
       " 'https://ecoalf.com/products/new-vintagealf-jacket-man-deep-navy-aw24',\n",
       " 'https://ecoalf.com/products/alpenalf-jacket-man-black-aw24',\n",
       " 'https://ecoalf.com/products/aspenalf-jacket-man-black-aw24',\n",
       " 'https://ecoalf.com/products/aspenalf-jacket-man-black-aw24',\n",
       " 'https://ecoalf.com/products/parkoalf-jacket-man-dark-olive-aw24',\n",
       " 'https://ecoalf.com/products/everestalf-jacket-graphite-aw24',\n",
       " 'https://ecoalf.com/products/new-beretalf-jacket-man-forest-night-aw24',\n",
       " 'https://ecoalf.com/products/new-beretalf-jacket-man-forest-night-aw24',\n",
       " 'https://ecoalf.com/products/raineralf-jacket-man-darksand-aw24']"
      ]
     },
     "execution_count": 7,
     "metadata": {},
     "output_type": "execute_result"
    }
   ],
   "source": [
    "links_completos"
   ]
  },
  {
   "cell_type": "code",
   "execution_count": 8,
   "metadata": {},
   "outputs": [],
   "source": [
    "nombre_elemento =  []\n",
    "precio_elemento =  []\n",
    "detalles_elemento =  []\n",
    "\n",
    "for single_link in links_completos:\n",
    "    res_link = requests.get(single_link)\n",
    "    sopa_elemento = BeautifulSoup(res_link.content, \"html.parser\")\n",
    "    nombre_elemento.append(sopa_elemento.find_all(\"h1\",\"product__title h4\"))\n",
    "    precio_elemento.append(sopa_elemento.find_all(\"div\", class_=\"price__regular price-item price-item--regular\"))\n",
    "    detalles_elemento.append(sopa_elemento.find_all(\"div\", class_=\"product__description rte\"))"
   ]
  },
  {
   "cell_type": "code",
   "execution_count": 9,
   "metadata": {},
   "outputs": [
    {
     "data": {
      "text/plain": [
       "[[<h1 class=\"product__title h4\">\n",
       "                      CHAQUETA VENUE AZUL MARINO\n",
       "                    </h1>,\n",
       "  <h1 class=\"product__title h4\">\n",
       "                              CHAQUETA VENUE AZUL MARINO\n",
       "                            </h1>],\n",
       " [<h1 class=\"product__title h4\">\n",
       "                      CHAQUETA GRAYS AZUL MARINO\n",
       "                    </h1>,\n",
       "  <h1 class=\"product__title h4\">\n",
       "                              CHAQUETA GRAYS AZUL MARINO\n",
       "                            </h1>],\n",
       " [<h1 class=\"product__title h4\">\n",
       "                      ABRIGO LIVORNO NEGRO\n",
       "                    </h1>,\n",
       "  <h1 class=\"product__title h4\">\n",
       "                              ABRIGO LIVORNO NEGRO\n",
       "                            </h1>],\n",
       " [<h1 class=\"product__title h4\">\n",
       "                      ABRIGO VELAN AZUL MARINO\n",
       "                    </h1>,\n",
       "  <h1 class=\"product__title h4\">\n",
       "                              ABRIGO VELAN AZUL MARINO\n",
       "                            </h1>],\n",
       " [<h1 class=\"product__title h4\">\n",
       "                      ABRIGO PASU AZUL MARINO\n",
       "                    </h1>,\n",
       "  <h1 class=\"product__title h4\">\n",
       "                              ABRIGO PASU AZUL MARINO\n",
       "                            </h1>],\n",
       " [<h1 class=\"product__title h4\">\n",
       "                      CHAQUETA VENUE VERDE OSCURO\n",
       "                    </h1>,\n",
       "  <h1 class=\"product__title h4\">\n",
       "                              CHAQUETA VENUE VERDE OSCURO\n",
       "                            </h1>],\n",
       " [<h1 class=\"product__title h4\">\n",
       "                      CHAQUETA VINSON VERDE\n",
       "                    </h1>,\n",
       "  <h1 class=\"product__title h4\">\n",
       "                              CHAQUETA VINSON VERDE\n",
       "                            </h1>],\n",
       " [<h1 class=\"product__title h4\">\n",
       "                      ABRIGO ICEBERG VERDE OSCURO\n",
       "                    </h1>,\n",
       "  <h1 class=\"product__title h4\">\n",
       "                              ABRIGO ICEBERG VERDE OSCURO\n",
       "                            </h1>],\n",
       " [<h1 class=\"product__title h4\">\n",
       "                      ABRIGO PARKO AZUL MARINO\n",
       "                    </h1>,\n",
       "  <h1 class=\"product__title h4\">\n",
       "                              ABRIGO PARKO AZUL MARINO\n",
       "                            </h1>],\n",
       " [<h1 class=\"product__title h4\">\n",
       "                      CHAQUETA VINSON AZUL MARINO\n",
       "                    </h1>,\n",
       "  <h1 class=\"product__title h4\">\n",
       "                              CHAQUETA VINSON AZUL MARINO\n",
       "                            </h1>],\n",
       " [<h1 class=\"product__title h4\">\n",
       "                      CHAQUETA CARTES VERDE\n",
       "                    </h1>,\n",
       "  <h1 class=\"product__title h4\">\n",
       "                              CHAQUETA CARTES VERDE\n",
       "                            </h1>],\n",
       " [<h1 class=\"product__title h4\">\n",
       "                      ABRIGO NEW VINTAGE GRIS OSCURO\n",
       "                    </h1>,\n",
       "  <h1 class=\"product__title h4\">\n",
       "                              ABRIGO NEW VINTAGE GRIS OSCURO\n",
       "                            </h1>],\n",
       " [<h1 class=\"product__title h4\">\n",
       "                      CHAQUETA GRAYS VERDE\n",
       "                    </h1>,\n",
       "  <h1 class=\"product__title h4\">\n",
       "                              CHAQUETA GRAYS VERDE\n",
       "                            </h1>],\n",
       " [<h1 class=\"product__title h4\">\n",
       "                      ABRIGO ICEBERG AZUL MARINO\n",
       "                    </h1>,\n",
       "  <h1 class=\"product__title h4\">\n",
       "                              ABRIGO ICEBERG AZUL MARINO\n",
       "                            </h1>],\n",
       " [<h1 class=\"product__title h4\">\n",
       "                      ABRIGO PARKO VERDE OSCURO\n",
       "                    </h1>,\n",
       "  <h1 class=\"product__title h4\">\n",
       "                              ABRIGO PARKO VERDE OSCURO\n",
       "                            </h1>],\n",
       " [<h1 class=\"product__title h4\">\n",
       "                      CHAQUETA ASP AZUL MARINO\n",
       "                    </h1>,\n",
       "  <h1 class=\"product__title h4\">\n",
       "                              CHAQUETA ASP AZUL MARINO\n",
       "                            </h1>],\n",
       " [<h1 class=\"product__title h4\">\n",
       "                      CHAQUETA ASP AZUL MARINO\n",
       "                    </h1>,\n",
       "  <h1 class=\"product__title h4\">\n",
       "                              CHAQUETA ASP AZUL MARINO\n",
       "                            </h1>],\n",
       " [<h1 class=\"product__title h4\">\n",
       "                      CHAQUETA CRONIN VERDE\n",
       "                    </h1>,\n",
       "  <h1 class=\"product__title h4\">\n",
       "                              CHAQUETA CRONIN VERDE\n",
       "                            </h1>],\n",
       " [<h1 class=\"product__title h4\">\n",
       "                      ABRIGO PARKO NEGRO\n",
       "                    </h1>,\n",
       "  <h1 class=\"product__title h4\">\n",
       "                              ABRIGO PARKO NEGRO\n",
       "                            </h1>],\n",
       " [<h1 class=\"product__title h4\">\n",
       "                      CHAQUETA LAWU KHAKI\n",
       "                    </h1>,\n",
       "  <h1 class=\"product__title h4\">\n",
       "                              CHAQUETA LAWU KHAKI\n",
       "                            </h1>],\n",
       " [<h1 class=\"product__title h4\">\n",
       "                      CHALECO AORAKI GRIS OSCURO\n",
       "                    </h1>,\n",
       "  <h1 class=\"product__title h4\">\n",
       "                              CHALECO AORAKI GRIS OSCURO\n",
       "                            </h1>],\n",
       " [<h1 class=\"product__title h4\">\n",
       "                      CHAQUETA ALPEN AZUL MARINO\n",
       "                    </h1>,\n",
       "  <h1 class=\"product__title h4\">\n",
       "                              CHAQUETA ALPEN AZUL MARINO\n",
       "                            </h1>],\n",
       " [<h1 class=\"product__title h4\">\n",
       "                      CHAQUETA BERET GRIS OSCURO\n",
       "                    </h1>,\n",
       "  <h1 class=\"product__title h4\">\n",
       "                              CHAQUETA BERET GRIS OSCURO\n",
       "                            </h1>],\n",
       " [<h1 class=\"product__title h4\">\n",
       "                      CHAQUETA BERET GRIS OSCURO\n",
       "                    </h1>,\n",
       "  <h1 class=\"product__title h4\">\n",
       "                              CHAQUETA BERET GRIS OSCURO\n",
       "                            </h1>],\n",
       " [<h1 class=\"product__title h4\">\n",
       "                      CHALECO AORAKI AZUL MARINO\n",
       "                    </h1>,\n",
       "  <h1 class=\"product__title h4\">\n",
       "                              CHALECO AORAKI AZUL MARINO\n",
       "                            </h1>],\n",
       " [<h1 class=\"product__title h4\">\n",
       "                      CHAQUETA LAWU GRIS OSCURO\n",
       "                    </h1>,\n",
       "  <h1 class=\"product__title h4\">\n",
       "                              CHAQUETA LAWU GRIS OSCURO\n",
       "                            </h1>],\n",
       " [<h1 class=\"product__title h4\">\n",
       "                      CHAQUETA BERET AZUL\n",
       "                    </h1>,\n",
       "  <h1 class=\"product__title h4\">\n",
       "                              CHAQUETA BERET AZUL\n",
       "                            </h1>],\n",
       " [<h1 class=\"product__title h4\">\n",
       "                      CHAQUETA BERET AZUL\n",
       "                    </h1>,\n",
       "  <h1 class=\"product__title h4\">\n",
       "                              CHAQUETA BERET AZUL\n",
       "                            </h1>],\n",
       " [<h1 class=\"product__title h4\">\n",
       "                      CHALECO SADEL MARRÓN\n",
       "                    </h1>,\n",
       "  <h1 class=\"product__title h4\">\n",
       "                              CHALECO SADEL MARRÓN\n",
       "                            </h1>],\n",
       " [<h1 class=\"product__title h4\">\n",
       "                      CHAQUETA NIWA NEGRA UNISEX\n",
       "                    </h1>,\n",
       "  <h1 class=\"product__title h4\">\n",
       "                              CHAQUETA NIWA NEGRA UNISEX\n",
       "                            </h1>],\n",
       " [<h1 class=\"product__title h4\">\n",
       "                      CHAQUETA ASP GRIS CLARO\n",
       "                    </h1>,\n",
       "  <h1 class=\"product__title h4\">\n",
       "                              CHAQUETA ASP GRIS CLARO\n",
       "                            </h1>],\n",
       " [<h1 class=\"product__title h4\">\n",
       "                      CHAQUETA ASP GRIS CLARO\n",
       "                    </h1>,\n",
       "  <h1 class=\"product__title h4\">\n",
       "                              CHAQUETA ASP GRIS CLARO\n",
       "                            </h1>],\n",
       " [<h1 class=\"product__title h4\">\n",
       "                      CHAQUETA BERET VERDE OSCURO\n",
       "                    </h1>,\n",
       "  <h1 class=\"product__title h4\">\n",
       "                              CHAQUETA BERET VERDE OSCURO\n",
       "                            </h1>],\n",
       " [<h1 class=\"product__title h4\">\n",
       "                      CHAQUETA BERET VERDE OSCURO\n",
       "                    </h1>,\n",
       "  <h1 class=\"product__title h4\">\n",
       "                              CHAQUETA BERET VERDE OSCURO\n",
       "                            </h1>],\n",
       " [<h1 class=\"product__title h4\">\n",
       "                      ABRIGO NEW VINTAGE AZUL MARINO\n",
       "                    </h1>,\n",
       "  <h1 class=\"product__title h4\">\n",
       "                              ABRIGO NEW VINTAGE AZUL MARINO\n",
       "                            </h1>],\n",
       " [<h1 class=\"product__title h4\">\n",
       "                      CHAQUETA ALPEN NEGRA\n",
       "                    </h1>,\n",
       "  <h1 class=\"product__title h4\">\n",
       "                              CHAQUETA ALPEN NEGRA\n",
       "                            </h1>],\n",
       " [<h1 class=\"product__title h4\">\n",
       "                      CHAQUETA ASP NEGRA\n",
       "                    </h1>,\n",
       "  <h1 class=\"product__title h4\">\n",
       "                              CHAQUETA ASP NEGRA\n",
       "                            </h1>],\n",
       " [<h1 class=\"product__title h4\">\n",
       "                      CHAQUETA ASP NEGRA\n",
       "                    </h1>,\n",
       "  <h1 class=\"product__title h4\">\n",
       "                              CHAQUETA ASP NEGRA\n",
       "                            </h1>],\n",
       " [<h1 class=\"product__title h4\">\n",
       "                      ABRIGO PARKO VERDE\n",
       "                    </h1>,\n",
       "  <h1 class=\"product__title h4\">\n",
       "                              ABRIGO PARKO VERDE\n",
       "                            </h1>],\n",
       " [<h1 class=\"product__title h4\">\n",
       "                      CHAQUETA EVEREST NEGRA\n",
       "                    </h1>,\n",
       "  <h1 class=\"product__title h4\">\n",
       "                              CHAQUETA EVEREST NEGRA\n",
       "                            </h1>],\n",
       " [<h1 class=\"product__title h4\">\n",
       "                      CHAQUETA BERET VERDE\n",
       "                    </h1>,\n",
       "  <h1 class=\"product__title h4\">\n",
       "                              CHAQUETA BERET VERDE\n",
       "                            </h1>],\n",
       " [<h1 class=\"product__title h4\">\n",
       "                      CHAQUETA BERET VERDE\n",
       "                    </h1>,\n",
       "  <h1 class=\"product__title h4\">\n",
       "                              CHAQUETA BERET VERDE\n",
       "                            </h1>],\n",
       " [<h1 class=\"product__title h4\">\n",
       "                      ABRIGO RAINER MARRÓN\n",
       "                    </h1>,\n",
       "  <h1 class=\"product__title h4\">\n",
       "                              ABRIGO RAINER MARRÓN\n",
       "                            </h1>]]"
      ]
     },
     "execution_count": 9,
     "metadata": {},
     "output_type": "execute_result"
    }
   ],
   "source": [
    "nombres_done = []\n",
    "for lista in nombre_elemento:\n",
    "    for i in lista:\n",
    "        nombres_done.append(i.getText().strip())\n",
    "\n",
    "nombre_elemento"
   ]
  },
  {
   "cell_type": "code",
   "execution_count": 10,
   "metadata": {},
   "outputs": [],
   "source": [
    "precios_done = []\n",
    "for lista in precio_elemento:\n",
    "    for i in lista:\n",
    "        precios_done.append(i.getText().strip())"
   ]
  },
  {
   "cell_type": "code",
   "execution_count": 29,
   "metadata": {},
   "outputs": [],
   "source": [
    "detalles_element = []\n",
    "for lista in detalles_elemento:\n",
    "    for i in lista:\n",
    "        detalles_element.append(i.getText().strip())\n",
    "\n",
    "nueva_lista = []\n",
    "for i in detalles_element:\n",
    "        \n",
    "    nueva_lista.append(i.split(\"\\n\"))\n",
    "  \n",
    "\n",
    "descripcion = []\n",
    "tejido = []\n",
    "for i in nueva_lista:\n",
    "    descripcion.append(i[0])\n",
    "    tejido.append(i[2])\n",
    "\n"
   ]
  },
  {
   "cell_type": "code",
   "execution_count": 12,
   "metadata": {},
   "outputs": [
    {
     "data": {
      "text/plain": [
       "43"
      ]
     },
     "execution_count": 12,
     "metadata": {},
     "output_type": "execute_result"
    }
   ],
   "source": [
    "len(tejido)"
   ]
  },
  {
   "cell_type": "code",
   "execution_count": 13,
   "metadata": {},
   "outputs": [],
   "source": [
    "data = {\"nombre\": nombres_done,\n",
    "        \"precios\": precios_done\n",
    "        }\n",
    "df_ecoalf = pd.DataFrame(data)\n",
    "\n"
   ]
  },
  {
   "cell_type": "code",
   "execution_count": 14,
   "metadata": {},
   "outputs": [],
   "source": [
    "df_reemplazo = df_ecoalf[\"nombre\"]"
   ]
  },
  {
   "cell_type": "code",
   "execution_count": 15,
   "metadata": {},
   "outputs": [],
   "source": [
    "def split_marca(text):\n",
    "    palabra = text.split()\n",
    "    return \" \".join(palabra[:2])"
   ]
  },
  {
   "cell_type": "code",
   "execution_count": 16,
   "metadata": {},
   "outputs": [
    {
     "data": {
      "text/plain": [
       "0       CHAQUETA VENUE\n",
       "1       CHAQUETA VENUE\n",
       "2       CHAQUETA GRAYS\n",
       "3       CHAQUETA GRAYS\n",
       "4       ABRIGO LIVORNO\n",
       "5       ABRIGO LIVORNO\n",
       "6         ABRIGO VELAN\n",
       "7         ABRIGO VELAN\n",
       "8          ABRIGO PASU\n",
       "9          ABRIGO PASU\n",
       "10      CHAQUETA VENUE\n",
       "11      CHAQUETA VENUE\n",
       "12     CHAQUETA VINSON\n",
       "13     CHAQUETA VINSON\n",
       "14      ABRIGO ICEBERG\n",
       "15      ABRIGO ICEBERG\n",
       "16        ABRIGO PARKO\n",
       "17        ABRIGO PARKO\n",
       "18     CHAQUETA VINSON\n",
       "19     CHAQUETA VINSON\n",
       "20     CHAQUETA CARTES\n",
       "21     CHAQUETA CARTES\n",
       "22          ABRIGO NEW\n",
       "23          ABRIGO NEW\n",
       "24      CHAQUETA GRAYS\n",
       "25      CHAQUETA GRAYS\n",
       "26      ABRIGO ICEBERG\n",
       "27      ABRIGO ICEBERG\n",
       "28        ABRIGO PARKO\n",
       "29        ABRIGO PARKO\n",
       "30        CHAQUETA ASP\n",
       "31        CHAQUETA ASP\n",
       "32        CHAQUETA ASP\n",
       "33        CHAQUETA ASP\n",
       "34     CHAQUETA CRONIN\n",
       "35     CHAQUETA CRONIN\n",
       "36        ABRIGO PARKO\n",
       "37        ABRIGO PARKO\n",
       "38       CHAQUETA LAWU\n",
       "39       CHAQUETA LAWU\n",
       "40      CHALECO AORAKI\n",
       "41      CHALECO AORAKI\n",
       "42      CHAQUETA ALPEN\n",
       "43      CHAQUETA ALPEN\n",
       "44      CHAQUETA BERET\n",
       "45      CHAQUETA BERET\n",
       "46      CHAQUETA BERET\n",
       "47      CHAQUETA BERET\n",
       "48      CHALECO AORAKI\n",
       "49      CHALECO AORAKI\n",
       "50       CHAQUETA LAWU\n",
       "51       CHAQUETA LAWU\n",
       "52      CHAQUETA BERET\n",
       "53      CHAQUETA BERET\n",
       "54      CHAQUETA BERET\n",
       "55      CHAQUETA BERET\n",
       "56       CHALECO SADEL\n",
       "57       CHALECO SADEL\n",
       "58       CHAQUETA NIWA\n",
       "59       CHAQUETA NIWA\n",
       "60        CHAQUETA ASP\n",
       "61        CHAQUETA ASP\n",
       "62        CHAQUETA ASP\n",
       "63        CHAQUETA ASP\n",
       "64      CHAQUETA BERET\n",
       "65      CHAQUETA BERET\n",
       "66      CHAQUETA BERET\n",
       "67      CHAQUETA BERET\n",
       "68          ABRIGO NEW\n",
       "69          ABRIGO NEW\n",
       "70      CHAQUETA ALPEN\n",
       "71      CHAQUETA ALPEN\n",
       "72        CHAQUETA ASP\n",
       "73        CHAQUETA ASP\n",
       "74        CHAQUETA ASP\n",
       "75        CHAQUETA ASP\n",
       "76        ABRIGO PARKO\n",
       "77        ABRIGO PARKO\n",
       "78    CHAQUETA EVEREST\n",
       "79    CHAQUETA EVEREST\n",
       "80      CHAQUETA BERET\n",
       "81      CHAQUETA BERET\n",
       "82      CHAQUETA BERET\n",
       "83      CHAQUETA BERET\n",
       "84       ABRIGO RAINER\n",
       "85       ABRIGO RAINER\n",
       "Name: nombre, dtype: object"
      ]
     },
     "execution_count": 16,
     "metadata": {},
     "output_type": "execute_result"
    }
   ],
   "source": [
    "df_reemplazo.apply(split_marca)"
   ]
  },
  {
   "cell_type": "code",
   "execution_count": 17,
   "metadata": {},
   "outputs": [
    {
     "data": {
      "text/plain": [
       "['La chaqueta Venue está hecha de poliéster reciclado que procede de botellas de plástico a las que damos una segunda vida. Lleva capucha incorporada ajustable y entre sus propiedades técnicas destaca que es impermeable y transpirable; la chaqueta perfecta para los días de lluvia.',\n",
       " 'La chaqueta Grays es monomaterial y está hecha de 100% poliéster reciclado procedente de botellas de plástico. Además, es transpirable y repelente al agua. Una chaqueta muy cómoda y perfecta para este invierno con la que combinarás estilo y sostenibilidad.',\n",
       " 'El abrigo Livorno está hecho con nuestro Hilo del Mar procedente de botellas de plástico recicladas del fondo del mar a través del proyecto Upcycling the Oceans de la Fundación Ecoalf. Hemos recogido más de 1.450 toneladas del fondo del océano desde 2015 gracias al apoyo de más de 4.500 pescadores. Ayúdanos a seguir limpiando nuestros océanos.',\n",
       " 'El abrigo Velan integra la tecnología innovadora dope dye que permite un proceso de teñido sin agua. En lugar de sumar otro paso adicional en el proceso de teñido (después de hilar el hilo), con esta tecnología se añaden los gránulos de colorante directamente a los gránulos de poliéster 100% reciclado, se funden para que se mezclen y luego se transforman en un hilo. Esto sella el color en el hilo mientras el poliéster se enfría hasta adquirir una forma sólida.\\xa0',\n",
       " 'El abrigo Pasu es resistente al agua y está hecho de 100% poliéster reciclado procedente de de botellas de plástico (PET). Al convertir botellas de plástico usadas en poliéster reciclado, logramos simplificar el proceso de producción, lo que se traduce en ahorros significativos de emisiones de CO2.',\n",
       " 'La chaqueta Venue está hecha de poliéster reciclado que procede de botellas de plástico a las que damos una segunda vida. Lleva capucha incorporada ajustable y entre sus propiedades técnicas destaca que es impermeable y transpirable; el abrigo perfecto para los días de lluvia.',\n",
       " 'La chaqueta Vinson está hecha de 100% poliéster ',\n",
       " 'El abrigo Iceberg está hecho con prendas post-consumo y con nuestro Hilo del Mar hecho con botellas del océano gracias a la Fundación Ecoalf. El proyecto Upcycling the Oceans reúne a más de 4.200 pescadores de todo el mar Mediterráneo y ha recogido más de 1.500 toneladas de residuos desde 2015. Una prenda abrigada, cómoda y resistente, todo un básico para combatir el invierno combinando moda y sostenibilidad.',\n",
       " 'El abrigo Parko está hecho con prendas post-consumo y con nuestro Hilo del Mar hecho con botellas del océano gracias a la Fundación Ecoalf. El proyecto Upcycling the Oceans reúne a más de 4.200 pescadores de todo el mar Mediterráneo y ha recogido más de 1.500 toneladas de residuos desde 2015. Una prenda abrigada, cómoda y resistente, todo un básico para combatir el invierno combinando moda y sostenibilidad.',\n",
       " 'La chaqueta Vinson está hecha de 100% poliéster ',\n",
       " 'La chaqueta Cartes es monomaterial y está hecha de Poliéster reciclado 100% procedente de botellas de plástico recicladas que luego transformamos en fibras para ofrecer prendas de bajo impacto ambiental con la mejor calidad. De esta manera, damos una segunda vida a materiales que serían considerados residuos. Abrigada y resistente, todo un básico para combatir el invierno combinando moda y sostenibilidad.',\n",
       " 'El abrigo New Vintage está hecha de 90% poliéster reciclado que proviene de botellas de plástico a las que damos una segunda vida. Lleva capucha incorporada y tiene un diseño atemporal, lo que hace que sea perfecto para este invierno',\n",
       " 'La chaqueta Grays es monomaterial y está hecha de 100% poliéster reciclado procedente de botellas de plástico. Además, es transpirable y repelente al agua. Una chaqueta muy cómoda y perfecta para este invierno con la que combinarás estilo y sostenibilidad.',\n",
       " 'El abrigo Iceberg está hecho con prendas post-consumo y con nuestro Hilo del Mar hecho con botellas del océano gracias a la Fundación Ecoalf. El proyecto Upcycling the Oceans reúne a más de 4.200 pescadores de todo el mar Mediterráneo y ha recogido más de 1.500 toneladas de residuos desde 2015. Una prenda abrigada, cómoda y resistente, todo un básico para combatir el invierno combinando moda y sostenibilidad.',\n",
       " 'El abrigo Parko está hecho con prendas post-consumo y con nuestro Hilo del Mar hecho con botellas del océano gracias a la Fundación Ecoalf. El proyecto Upcycling the Oceans reúne a más de 4.200 pescadores de todo el mar Mediterráneo y ha recogido más de 1.500 toneladas de residuos desde 2015. Una prenda abrigada, cómoda y resistente, todo un básico para combatir el invierno combinando moda y sostenibilidad.',\n",
       " 'La chaqueta Asp es monomaterial y está hecha de 100% poliéster reciclado que procede de botellas de plástico (PET) recicladas que más tarde transformamos en fibras para ofrecer prendas con la mejor calidad de bajo impacto ambiental.',\n",
       " 'La chaqueta Asp es monomaterial y está hecha de 100% poliéster reciclado que procede de botellas de plástico (PET) recicladas que más tarde transformamos en fibras para ofrecer prendas con la mejor calidad de bajo impacto ambiental.',\n",
       " 'La chaqueta Cronin es monomaterial y está hecha de 100% poliéster reciclado procedente de botellas de plástico. Además, es transpirable y repelente al agua. Una chaqueta muy cómoda y perfecta para este invierno con las que combinarás estilo y sostenibilidad.',\n",
       " 'El abrigo Parko está hecho con prendas post-consumo y con nuestro Hilo del Mar hecho con botellas del océano gracias a la Fundación Ecoalf. El proyecto Upcycling the Oceans reúne a más de 4.200 pescadores de todo el mar Mediterráneo y ha recogido más de 1.500 toneladas de residuos desde 2015. Una prenda abrigada, cómoda y resistente, todo un básico para combatir el invierno combinando moda y sostenibilidad.',\n",
       " 'La chaqueta Lawu está hecha de una mezcla de algodón orgánico y reciclado, obtenido mediante la recolección, clasificación y proceso de prendas usadas o residuos textiles que contienen algodón. Una alternativa sostenible que aprovecha materiales existentes y reduce el impacto ambiental asociado con la producción textil.',\n",
       " 'El chaleco Aoraki, repelente al agua, integra la tecnología innovadora dope dye que permite un proceso de teñido sin agua. En lugar de sumar otro paso adicional en el proceso de teñido (después de hilar el hilo), con esta tecnología se añaden los gránulos de colorante directamente a los gránulos de poliéster 100% reciclado, se funden para que se mezclen y luego se transforman en un hilo. Esto sella el color en el hilo mientras el poliéster se enfría hasta adquirir una forma sólida.\\xa0',\n",
       " 'La chaqueta Alpen está hecha de 100% poliéster reciclado procedente de botellas de plástico a las que damos un segundo uso. Su elegante diseño la convierte en una chaqueta atemporal y perfecta para tener como fondo de armario, además de ser repelente al agua.',\n",
       " 'La chaqueta Beret es monomaterial y está hecha de 100% poliéster reciclado que procede de botellas de plástico (PET) recicladas a las que más tarde transformamos en fibras para ofrecer prendas con la mejor calidad de bajo impacto ambiental. Una chaqueta repelente al agua, muy cómoda y sostenible.',\n",
       " 'La chaqueta Beret es monomaterial y está hecha de 100% poliéster reciclado que procede de botellas de plástico (PET) recicladas a las que más tarde transformamos en fibras para ofrecer prendas con la mejor calidad de bajo impacto ambiental. Una chaqueta repelente al agua, muy cómoda y sostenible.',\n",
       " 'El chaleco Aoraki, repelente al agua, integra la tecnología innovadora dope dye que permite un proceso de teñido sin agua. En lugar de sumar otro paso adicional en el proceso de teñido (después de hilar el hilo), con esta tecnología se añaden los gránulos de colorante directamente a los gránulos de poliéster 100% reciclado, se funden para que se mezclen y luego se transforman en un hilo. Esto sella el color en el hilo mientras el poliéster se enfría hasta adquirir una forma sólida.\\xa0',\n",
       " 'La chaqueta Lawu está hecha de una mezcla de algodón orgánico y reciclado, obtenido mediante la recolección, clasificación y proceso de prendas usadas o residuos textiles que contienen algodón. Una alternativa sostenible que aprovecha materiales existentes y reduce el impacto ambiental asociado con la producción textil.',\n",
       " 'La chaqueta Beret es monomaterial y está hecha de 100% poliéster reciclado que procede de botellas de plástico (PET) recicladas a las que más tarde transformamos en fibras para ofrecer prendas con la mejor calidad de bajo impacto ambiental. Una chaqueta repelente al agua, muy cómoda y sostenible.',\n",
       " 'La chaqueta Beret es monomaterial y está hecha de 100% poliéster reciclado que procede de botellas de plástico (PET) recicladas a las que más tarde transformamos en fibras para ofrecer prendas con la mejor calidad de bajo impacto ambiental. Una chaqueta repelente al agua, muy cómoda y sostenible.',\n",
       " 'El chaleco Sadel es de nylon reciclado, un material que promueve la economía circular. Su composición lo hace perfecto para los días más fríos del invierno, mientras que su exterior repelente al agua te protegerá de la lluvia.',\n",
       " 'La chaqueta Niwa es monomaterial de poliéster reciclado, una fibra procedente de botellas de plástico a las que damos una segunda vida. Además, es impermeable, transpirable, y lleva una capucha incorporada para protegerte de la lluvia.',\n",
       " 'La chaqueta Asp es monomaterial y está hecha de 100% poliéster reciclado que procede de botellas de plástico (PET) recicladas que más tarde transformamos en fibras para ofrecer prendas con la mejor calidad de bajo impacto ambiental.',\n",
       " 'La chaqueta Asp es monomaterial y está hecha de 100% poliéster reciclado que procede de botellas de plástico (PET) recicladas que más tarde transformamos en fibras para ofrecer prendas con la mejor calidad de bajo impacto ambiental.',\n",
       " 'La chaqueta Beret es monomaterial y está hecha de 100% poliéster reciclado que procede de botellas de plástico (PET) recicladas a las que más tarde transformamos en fibras para ofrecer prendas con la mejor calidad de bajo impacto ambiental. Una chaqueta repelente al agua, muy cómoda y sostenible.',\n",
       " 'La chaqueta Beret es monomaterial y está hecha de 100% poliéster reciclado que procede de botellas de plástico (PET) recicladas a las que más tarde transformamos en fibras para ofrecer prendas con la mejor calidad de bajo impacto ambiental. Una chaqueta repelente al agua, muy cómoda y sostenible.',\n",
       " 'El abrigo New Vintage está hecha de 85% poliéster reciclado que proviene de botellas de plástico a las que damos una segunda vida. Lleva capucha incorporada y tiene un diseño atemporal, lo que hace que sea perfecto para este invierno',\n",
       " 'La chaqueta Alpen está hecha de 70% poliéster reciclado procedente de botellas de plástico a las que damos un segundo uso. Su elegante diseño la convierte en una chaqueta atemporal y perfecta para tener como fondo de armario, además de ser repelente al agua.',\n",
       " 'La chaqueta Asp es monomaterial y está hecha de 100% poliéster reciclado que procede de botellas de plástico (PET) recicladas que más tarde transformamos en fibras para ofrecer prendas con la mejor calidad de bajo impacto ambiental.',\n",
       " 'La chaqueta Asp es monomaterial y está hecha de 100% poliéster reciclado que procede de botellas de plástico (PET) recicladas que más tarde transformamos en fibras para ofrecer prendas con la mejor calidad de bajo impacto ambiental.',\n",
       " 'El abrigo Parko está hecho con prendas post-consumo y con nuestro Hilo del Mar hecho con botellas del océano gracias a la Fundación Ecoalf. El proyecto Upcycling the Oceans reúne a más de 4.200 pescadores de todo el mar Mediterráneo y ha recogido más de 1.500 toneladas de residuos desde 2015. Una prenda abrigada, cómoda y resistente, todo un básico para combatir el invierno combinando moda y sostenibilidad.',\n",
       " 'La chaqueta Everest es monomaterial de poliéster reciclado que proviene de botellas de plástico a las que damos una segunda vida. Tiene un portabebés incorporado para que podáis ir tú y tu bebé protegidos de la lluvia y el frío. Es impermeable y transpirable',\n",
       " 'La chaqueta Beret es monomaterial y está hecha de 100% poliéster reciclado que procede de botellas de plástico (PET) recicladas a las que más tarde transformamos en fibras para ofrecer prendas con la mejor calidad de bajo impacto ambiental. Una chaqueta repelente al agua, muy cómoda y sostenible.',\n",
       " 'La chaqueta Beret es monomaterial y está hecha de 100% poliéster reciclado que procede de botellas de plástico (PET) recicladas a las que más tarde transformamos en fibras para ofrecer prendas con la mejor calidad de bajo impacto ambiental. Una chaqueta repelente al agua, muy cómoda y sostenible.',\n",
       " 'El abrigo Rainer es resistente al agua y está hecho de 100% poliéster reciclado procedente de de botellas de plástico (PET). Al convertir botellas de plástico usadas en poliéster reciclado, logramos simplificar el proceso de producción, lo que se traduce en ahorros significativos de emisiones de CO2.']"
      ]
     },
     "execution_count": 17,
     "metadata": {},
     "output_type": "execute_result"
    }
   ],
   "source": [
    "descripcion"
   ]
  },
  {
   "cell_type": "code",
   "execution_count": 18,
   "metadata": {},
   "outputs": [
    {
     "name": "stdout",
     "output_type": "stream",
     "text": [
      "['chaqueta Venue', 'chaqueta Venue', 'chaqueta Grays', 'chaqueta Grays', 'abrigo Livorno', 'abrigo Livorno', 'abrigo Velan', 'abrigo Velan', 'abrigo Pasu', 'abrigo Pasu', 'chaqueta Venue', 'chaqueta Venue', 'chaqueta Vinson', 'chaqueta Vinson', 'abrigo Iceberg', 'abrigo Iceberg', 'abrigo Parko', 'abrigo Parko', 'chaqueta Vinson', 'chaqueta Vinson', 'chaqueta Cartes', 'chaqueta Cartes', 'abrigo New', 'abrigo New', 'chaqueta Grays', 'chaqueta Grays', 'abrigo Iceberg', 'abrigo Iceberg', 'abrigo Parko', 'abrigo Parko', 'chaqueta Asp', 'chaqueta Asp', 'chaqueta Asp', 'chaqueta Asp', 'chaqueta Cronin', 'chaqueta Cronin', 'abrigo Parko', 'abrigo Parko', 'chaqueta Lawu', 'chaqueta Lawu', 'chaleco Aoraki', 'chaleco Aoraki', 'chaqueta Alpen', 'chaqueta Alpen', 'chaqueta Beret', 'chaqueta Beret', 'chaqueta Beret', 'chaqueta Beret', 'chaleco Aoraki', 'chaleco Aoraki', 'chaqueta Lawu', 'chaqueta Lawu', 'chaqueta Beret', 'chaqueta Beret', 'chaqueta Beret', 'chaqueta Beret', 'chaleco Sadel', 'chaleco Sadel', 'chaqueta Niwa', 'chaqueta Niwa', 'chaqueta Asp', 'chaqueta Asp', 'chaqueta Asp', 'chaqueta Asp', 'chaqueta Beret', 'chaqueta Beret', 'chaqueta Beret', 'chaqueta Beret', 'abrigo New', 'abrigo New', 'chaqueta Alpen', 'chaqueta Alpen', 'chaqueta Asp', 'chaqueta Asp', 'chaqueta Asp', 'chaqueta Asp', 'abrigo Parko', 'abrigo Parko', 'chaqueta Everest', 'chaqueta Everest', 'chaqueta Beret', 'chaqueta Beret', 'chaqueta Beret', 'chaqueta Beret', 'abrigo Rainer', 'abrigo Rainer']\n"
     ]
    }
   ],
   "source": [
    "nombres_chaqueta = [chaqueta.lower().split(\" \")[:2] for chaqueta in nombres_done]\n",
    "\n",
    "nombres_chaqueta = [f\"{i[0]} {i[1].capitalize()}\" for i in nombres_chaqueta]\n",
    "# listas_unidas = [\" \".join(sublista) for sublista in nombres_chaqueta]\n",
    "\n",
    "print(nombres_chaqueta)"
   ]
  },
  {
   "cell_type": "code",
   "execution_count": 19,
   "metadata": {},
   "outputs": [
    {
     "name": "stdout",
     "output_type": "stream",
     "text": [
      "{'CHAQUETA VENUE': 'La chaqueta Venue está hecha de poliéster reciclado que procede de botellas de plástico a las que damos una segunda vida. Lleva capucha incorporada ajustable y entre sus propiedades técnicas destaca que es impermeable y transpirable; el abrigo perfecto para los días de lluvia.', 'CHAQUETA GRAYS': 'La chaqueta Grays es monomaterial y está hecha de 100% poliéster reciclado procedente de botellas de plástico. Además, es transpirable y repelente al agua. Una chaqueta muy cómoda y perfecta para este invierno con la que combinarás estilo y sostenibilidad.', 'ABRIGO LIVORNO': 'El abrigo Livorno está hecho con nuestro Hilo del Mar procedente de botellas de plástico recicladas del fondo del mar a través del proyecto Upcycling the Oceans de la Fundación Ecoalf. Hemos recogido más de 1.450 toneladas del fondo del océano desde 2015 gracias al apoyo de más de 4.500 pescadores. Ayúdanos a seguir limpiando nuestros océanos.', 'ABRIGO VELAN': 'El abrigo Velan integra la tecnología innovadora dope dye que permite un proceso de teñido sin agua. En lugar de sumar otro paso adicional en el proceso de teñido (después de hilar el hilo), con esta tecnología se añaden los gránulos de colorante directamente a los gránulos de poliéster 100% reciclado, se funden para que se mezclen y luego se transforman en un hilo. Esto sella el color en el hilo mientras el poliéster se enfría hasta adquirir una forma sólida.\\xa0', 'ABRIGO PASU': 'El abrigo Pasu es resistente al agua y está hecho de 100% poliéster reciclado procedente de de botellas de plástico (PET). Al convertir botellas de plástico usadas en poliéster reciclado, logramos simplificar el proceso de producción, lo que se traduce en ahorros significativos de emisiones de CO2.', 'CHAQUETA VINSON': 'La chaqueta Vinson está hecha de 100% poliéster ', 'ABRIGO ICEBERG': 'El abrigo Iceberg está hecho con prendas post-consumo y con nuestro Hilo del Mar hecho con botellas del océano gracias a la Fundación Ecoalf. El proyecto Upcycling the Oceans reúne a más de 4.200 pescadores de todo el mar Mediterráneo y ha recogido más de 1.500 toneladas de residuos desde 2015. Una prenda abrigada, cómoda y resistente, todo un básico para combatir el invierno combinando moda y sostenibilidad.', 'ABRIGO PARKO': 'El abrigo Parko está hecho con prendas post-consumo y con nuestro Hilo del Mar hecho con botellas del océano gracias a la Fundación Ecoalf. El proyecto Upcycling the Oceans reúne a más de 4.200 pescadores de todo el mar Mediterráneo y ha recogido más de 1.500 toneladas de residuos desde 2015. Una prenda abrigada, cómoda y resistente, todo un básico para combatir el invierno combinando moda y sostenibilidad.', 'CHAQUETA CARTES': 'La chaqueta Cartes es monomaterial y está hecha de Poliéster reciclado 100% procedente de botellas de plástico recicladas que luego transformamos en fibras para ofrecer prendas de bajo impacto ambiental con la mejor calidad. De esta manera, damos una segunda vida a materiales que serían considerados residuos. Abrigada y resistente, todo un básico para combatir el invierno combinando moda y sostenibilidad.', 'ABRIGO NEW': 'El abrigo New Vintage está hecha de 85% poliéster reciclado que proviene de botellas de plástico a las que damos una segunda vida. Lleva capucha incorporada y tiene un diseño atemporal, lo que hace que sea perfecto para este invierno', 'CHAQUETA ASP': 'La chaqueta Asp es monomaterial y está hecha de 100% poliéster reciclado que procede de botellas de plástico (PET) recicladas que más tarde transformamos en fibras para ofrecer prendas con la mejor calidad de bajo impacto ambiental.', 'CHAQUETA CRONIN': 'La chaqueta Cronin es monomaterial y está hecha de 100% poliéster reciclado procedente de botellas de plástico. Además, es transpirable y repelente al agua. Una chaqueta muy cómoda y perfecta para este invierno con las que combinarás estilo y sostenibilidad.', 'CHAQUETA LAWU': 'La chaqueta Lawu está hecha de una mezcla de algodón orgánico y reciclado, obtenido mediante la recolección, clasificación y proceso de prendas usadas o residuos textiles que contienen algodón. Una alternativa sostenible que aprovecha materiales existentes y reduce el impacto ambiental asociado con la producción textil.', 'CHALECO AORAKI': 'El chaleco Aoraki, repelente al agua, integra la tecnología innovadora dope dye que permite un proceso de teñido sin agua. En lugar de sumar otro paso adicional en el proceso de teñido (después de hilar el hilo), con esta tecnología se añaden los gránulos de colorante directamente a los gránulos de poliéster 100% reciclado, se funden para que se mezclen y luego se transforman en un hilo. Esto sella el color en el hilo mientras el poliéster se enfría hasta adquirir una forma sólida.\\xa0', 'CHAQUETA ALPEN': 'La chaqueta Alpen está hecha de 70% poliéster reciclado procedente de botellas de plástico a las que damos un segundo uso. Su elegante diseño la convierte en una chaqueta atemporal y perfecta para tener como fondo de armario, además de ser repelente al agua.', 'CHAQUETA BERET': 'La chaqueta Beret es monomaterial y está hecha de 100% poliéster reciclado que procede de botellas de plástico (PET) recicladas a las que más tarde transformamos en fibras para ofrecer prendas con la mejor calidad de bajo impacto ambiental. Una chaqueta repelente al agua, muy cómoda y sostenible.', 'CHALECO SADEL': 'El chaleco Sadel es de nylon reciclado, un material que promueve la economía circular. Su composición lo hace perfecto para los días más fríos del invierno, mientras que su exterior repelente al agua te protegerá de la lluvia.', 'CHAQUETA NIWA': 'La chaqueta Niwa es monomaterial de poliéster reciclado, una fibra procedente de botellas de plástico a las que damos una segunda vida. Además, es impermeable, transpirable, y lleva una capucha incorporada para protegerte de la lluvia.', 'CHAQUETA EVEREST': 'La chaqueta Everest es monomaterial de poliéster reciclado que proviene de botellas de plástico a las que damos una segunda vida. Tiene un portabebés incorporado para que podáis ir tú y tu bebé protegidos de la lluvia y el frío. Es impermeable y transpirable', 'ABRIGO RAINER': 'El abrigo Rainer es resistente al agua y está hecho de 100% poliéster reciclado procedente de de botellas de plástico (PET). Al convertir botellas de plástico usadas en poliéster reciclado, logramos simplificar el proceso de producción, lo que se traduce en ahorros significativos de emisiones de CO2.'}\n"
     ]
    }
   ],
   "source": [
    "nombre_descripcion_dict = {}\n",
    "for nombre in nombres_chaqueta:\n",
    "    for des in descripcion:\n",
    "        if nombre in des:\n",
    "            nombre_descripcion_dict[nombre] = des\n",
    "            pass  # Detener la búsqueda si ya se ha encontrado una coincidencia\n",
    "\n",
    "nombre_descripcion_dict = {key.upper(): value for key, value in nombre_descripcion_dict.items()}\n",
    "\n",
    "\n",
    "print(nombre_descripcion_dict)"
   ]
  },
  {
   "cell_type": "code",
   "execution_count": 36,
   "metadata": {},
   "outputs": [
    {
     "data": {
      "text/plain": [
       "36"
      ]
     },
     "execution_count": 36,
     "metadata": {},
     "output_type": "execute_result"
    }
   ],
   "source": [
    "df_ecoalf[\"nombre\"] = df_ecoalf[\"nombre\"].drop_duplicates()\n",
    "df_ecoalf = df_ecoalf.dropna()\n",
    "\n",
    "len(df_ecoalf)"
   ]
  },
  {
   "cell_type": "code",
   "execution_count": 35,
   "metadata": {},
   "outputs": [
    {
     "data": {
      "text/plain": [
       "36"
      ]
     },
     "execution_count": 35,
     "metadata": {},
     "output_type": "execute_result"
    }
   ],
   "source": [
    "# Función para buscar las claves del diccionario en el nombre y aplicar la descripción\n",
    "def aplicar_descripcion(nombre, dic):\n",
    "    # Recorre todas las claves del diccionario\n",
    "    for key, descripcion in dic.items():\n",
    "        if key in nombre:  # Si la clave está contenida en el nombre\n",
    "            return descripcion  # Retorna la descripción\n",
    "    return nombre  # Si no se encuentra, regresa el nombre original\n",
    "\n",
    "# Aplicar la función a la columna 'nombre' del DataFrame usando lambda para pasar el diccionario\n",
    "df_ecoalf['descripcion'] = df_ecoalf['nombre'].apply(lambda x: aplicar_descripcion(x, nombre_descripcion_dict))\n",
    "\n",
    "# Mostrar el DataFrame con la nueva columna\n",
    "len(df_ecoalf)\n"
   ]
  },
  {
   "cell_type": "code",
   "execution_count": 22,
   "metadata": {},
   "outputs": [
    {
     "data": {
      "text/plain": [
       "36"
      ]
     },
     "execution_count": 22,
     "metadata": {},
     "output_type": "execute_result"
    }
   ],
   "source": [
    "len(df_ecoalf)"
   ]
  },
  {
   "cell_type": "code",
   "execution_count": 30,
   "metadata": {},
   "outputs": [
    {
     "data": {
      "text/plain": [
       "['Tejido principal: 100% poliéster reciclado',\n",
       " 'Tejido principal: 100% poliéster reciclado',\n",
       " 'Tejido principal: 58% Hilo del Mar (poliéster reciclado) / 42% poliéster reciclado',\n",
       " 'Tejido principal: 100% poliéster reciclado',\n",
       " 'Tejido principal: 100% poliéster reciclado',\n",
       " 'Tejido principal: 100% poliéster reciclado',\n",
       " 'Tejido principal: 58% Hilo del Mar (poliéster reciclado) / 42% poliéster reciclado',\n",
       " 'Tejido principal: 58% Hilo del Mar (poliéster reciclado) / 42% poliéster reciclado',\n",
       " 'Tejido principal: 100% poliéster reciclado',\n",
       " 'Tejido principal: 100% poliéster reciclado',\n",
       " 'Tejido principal: 90% poliéster reciclado/ 10% poliéster',\n",
       " 'Tejido principal: 100% poliéster reciclado',\n",
       " 'Tejido principal: 58% Hilo del Mar (poliéster reciclado) / 42% poliéster reciclado',\n",
       " 'Tejido principal: 58% Hilo del Mar (poliéster reciclado) / 42% poliéster reciclado',\n",
       " 'Tejido principal: 100% poliéster reciclado',\n",
       " 'Tejido principal: 100% poliéster reciclado',\n",
       " 'Tejido principal: 100% poliéster reciclado',\n",
       " 'Tejido principal: 58% Hilo del Mar (poliéster reciclado) / 42% poliéster reciclado',\n",
       " 'Tejido principal: 50% Algodón reciclado/ 50% Algodón orgánico',\n",
       " 'Tejido principal: 100% poliéster reciclado',\n",
       " 'Tejido principal: 100% poliéster reciclado',\n",
       " 'Tejido principal: 100% poliéster reciclado',\n",
       " 'Tejido principal: 50% Algodón reciclado/ 50% Algodón orgánico',\n",
       " 'Tejido principal: 100% poliéster reciclado',\n",
       " 'Tejido principal: 100% poliéster reciclado',\n",
       " 'Tejido principal: 100% nylon reciclado',\n",
       " 'Tejido principal: 100% poliéster reciclado',\n",
       " 'Tejido principal: 100% poliéster reciclado',\n",
       " 'Tejido principal: 100% poliéster reciclado',\n",
       " 'Tejido principal: 100% poliéster reciclado',\n",
       " 'Tejido principal: 85% poliéster reciclado/ 15% poliéster',\n",
       " 'Tejido principal: 70% poliéster reciclado/ 30% Sorona',\n",
       " 'Tejido principal: 100% poliéster reciclado',\n",
       " 'Tejido principal: 100% poliéster reciclado',\n",
       " 'Tejido principal: 58% Hilo del Mar (poliéster reciclado) / 42% poliéster reciclado',\n",
       " 'Tejido principal: 100% poliéster reciclado',\n",
       " 'Tejido principal: 100% poliéster reciclado',\n",
       " 'Tejido principal: 100% poliéster reciclado',\n",
       " 'Tejido principal: 100% poliéster reciclado']"
      ]
     },
     "execution_count": 30,
     "metadata": {},
     "output_type": "execute_result"
    }
   ],
   "source": [
    "tejido = [i for i in tejido if \"Tejido\" in i]\n",
    "\n",
    "tejido"
   ]
  },
  {
   "cell_type": "code",
   "execution_count": 37,
   "metadata": {},
   "outputs": [
    {
     "name": "stdout",
     "output_type": "stream",
     "text": [
      "36\n",
      "['Tejido principal: 100% poliéster reciclado', 'Tejido principal: 100% poliéster reciclado', 'Tejido principal: 100% poliéster reciclado', 'Tejido principal: 100% poliéster reciclado', 'Tejido principal: 100% poliéster reciclado', 'Tejido principal: 100% poliéster reciclado', 'Tejido principal: 100% poliéster reciclado', 'Tejido principal: 100% poliéster reciclado', 'Tejido principal: 100% poliéster reciclado', 'Tejido principal: 100% poliéster reciclado', 'Tejido principal: 100% poliéster reciclado', 'Tejido principal: 100% poliéster reciclado', 'Tejido principal: 100% poliéster reciclado', 'Tejido principal: 100% poliéster reciclado', 'Tejido principal: 100% poliéster reciclado', 'Tejido principal: 100% poliéster reciclado', 'Tejido principal: 100% poliéster reciclado', 'Tejido principal: 100% poliéster reciclado', 'Tejido principal: 100% poliéster reciclado', 'Tejido principal: 100% poliéster reciclado', 'Tejido principal: 100% poliéster reciclado', 'Tejido principal: 100% poliéster reciclado', 'Tejido principal: 100% poliéster reciclado', 'Tejido principal: 100% poliéster reciclado', 'Tejido principal: 100% poliéster reciclado', 'Tejido principal: 58% Hilo del Mar (poliéster reciclado) / 42% poliéster reciclado', 'Tejido principal: 58% Hilo del Mar (poliéster reciclado) / 42% poliéster reciclado', 'Tejido principal: 58% Hilo del Mar (poliéster reciclado) / 42% poliéster reciclado', 'Tejido principal: 58% Hilo del Mar (poliéster reciclado) / 42% poliéster reciclado', 'Tejido principal: 58% Hilo del Mar (poliéster reciclado) / 42% poliéster reciclado', 'Tejido principal: 58% Hilo del Mar (poliéster reciclado) / 42% poliéster reciclado', 'Tejido principal: 58% Hilo del Mar (poliéster reciclado) / 42% poliéster reciclado', 'Tejido principal: 90% poliéster reciclado/ 10% poliéster', 'Tejido principal: 50% Algodón reciclado/ 50% Algodón orgánico', 'Tejido principal: 50% Algodón reciclado/ 50% Algodón orgánico', 'Tejido principal: 85% poliéster reciclado/ 15% poliéster']\n"
     ]
    }
   ],
   "source": [
    "# Paso 1: Contar la frecuencia de cada material\n",
    "frecuencias = Counter(tejido)\n",
    "\n",
    "# Paso 2: Calcular la cantidad deseada para cada material en una lista de 74 elementos\n",
    "target_total = 36\n",
    "proporciones = {material: int(count * target_total / len(tejido)) for material, count in frecuencias.items()}\n",
    "\n",
    "# Paso 3: Ajustar el total a 74 exactamente, en caso de desviaciones\n",
    "ajuste = target_total - sum(proporciones.values())\n",
    "if ajuste > 0:\n",
    "    # Si faltan elementos, incrementar algunos en +1 hasta llegar a 74\n",
    "    for material in random.sample(list(proporciones.keys()), ajuste):\n",
    "        proporciones[material] += 1\n",
    "elif ajuste < 0:\n",
    "    # Si hay elementos de más, reducir algunos en -1 hasta llegar a 74\n",
    "    for material in random.sample(list(proporciones.keys()), -ajuste):\n",
    "        proporciones[material] -= 1\n",
    "\n",
    "# Paso 4: Construir la lista final de materiales\n",
    "materiales_reducidos = []\n",
    "for material, count in proporciones.items():\n",
    "    # Usamos sample si count <= frecuencia real, de lo contrario usamos choices para evitar error\n",
    "    muestras_material = (random.sample([m for m in tejido if m == material], count)\n",
    "                         if count <= frecuencias[material]\n",
    "                         else random.choices([m for m in tejido if m == material], k=count))\n",
    "    materiales_reducidos.extend(muestras_material)\n",
    "\n",
    "print(len(materiales_reducidos))  # Debe imprimir exactamente 74\n",
    "print(materiales_reducidos)"
   ]
  },
  {
   "cell_type": "code",
   "execution_count": 38,
   "metadata": {},
   "outputs": [],
   "source": [
    "\n",
    "df_ecoalf[\"genero\"] = genero\n",
    "\n",
    "df_ecoalf[\"mateiral\"] = materiales_reducidos"
   ]
  },
  {
   "cell_type": "code",
   "execution_count": 41,
   "metadata": {},
   "outputs": [
    {
     "name": "stdout",
     "output_type": "stream",
     "text": [
      "Collecting fsspec\n",
      "  Downloading fsspec-2024.10.0-py3-none-any.whl.metadata (11 kB)\n",
      "Downloading fsspec-2024.10.0-py3-none-any.whl (179 kB)\n",
      "Installing collected packages: fsspec\n",
      "Successfully installed fsspec-2024.10.0\n"
     ]
    }
   ],
   "source": [
    "!pip install fsspec"
   ]
  },
  {
   "cell_type": "code",
   "execution_count": 42,
   "metadata": {},
   "outputs": [],
   "source": [
    "df_ecoalf.to_csv(\"C://Users//Víctor//Desktop//HACKIO//Proyectos//ProyectoMinimalism//datos//df_ecoalf.csv\")"
   ]
  }
 ],
 "metadata": {
  "kernelspec": {
   "display_name": "Python 3",
   "language": "python",
   "name": "python3"
  },
  "language_info": {
   "codemirror_mode": {
    "name": "ipython",
    "version": 3
   },
   "file_extension": ".py",
   "mimetype": "text/x-python",
   "name": "python",
   "nbconvert_exporter": "python",
   "pygments_lexer": "ipython3",
   "version": "3.11.10"
  }
 },
 "nbformat": 4,
 "nbformat_minor": 2
}
