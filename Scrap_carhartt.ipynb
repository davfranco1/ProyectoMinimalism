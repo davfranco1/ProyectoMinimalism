{
 "cells": [
  {
   "cell_type": "code",
   "execution_count": 5,
   "metadata": {},
   "outputs": [],
   "source": [
    "# Importamos las librerías que necesitamos\n",
    "\n",
    "# Librerías de extracción de datos\n",
    "# -----------------------------------------------------------------------\n",
    "\n",
    "# Importaciones:\n",
    "# Beautifulsoup\n",
    "from bs4 import BeautifulSoup\n",
    "\n",
    "# Requests\n",
    "import requests\n",
    "\n",
    "# Importar librerías para automatización de navegadores web con Selenium\n",
    "# -----------------------------------------------------------------------\n",
    "from selenium import webdriver  # Selenium es una herramienta para automatizar la interacción con navegadores web.\n",
    "from webdriver_manager.chrome import ChromeDriverManager  # ChromeDriverManager gestiona la instalación del controlador de Chrome.\n",
    "from selenium.webdriver.common.keys import Keys  # Keys es útil para simular eventos de teclado en Selenium.\n",
    "from selenium.webdriver.support.ui import Select  # Select se utiliza para interactuar con elementos <select> en páginas web.\n",
    "from selenium.webdriver.support.ui import WebDriverWait\n",
    "from selenium.webdriver.support import expected_conditions as EC\n",
    "from selenium.common.exceptions import NoSuchElementException # Excepciones comunes de selenium que nos podemos encontrar \n",
    "\n",
    "\n",
    "# Importar librerías para pausar la ejecución\n",
    "# -----------------------------------------------------------------------\n",
    "from time import sleep  # Sleep se utiliza para pausar la ejecución del programa por un número de segundos.\n",
    "\n",
    "# Librerías para tratamiento de datos\n",
    "# -----------------------------------------------------------------------\n",
    "import pandas as pd\n",
    "import numpy as np\n",
    "\n",
    "import sys\n",
    "sys.path.append(\"../\")\n",
    "from src import soporte_eco\n",
    "pd.set_option('display.max_rows', None)\n",
    "from collections import Counter\n",
    "import random\n"
   ]
  },
  {
   "cell_type": "code",
   "execution_count": 16,
   "metadata": {},
   "outputs": [
    {
     "name": "stderr",
     "output_type": "stream",
     "text": [
      "C:\\Users\\Víctor\\AppData\\Local\\Temp\\ipykernel_21492\\2383077430.py:7: MarkupResemblesLocatorWarning: The input looks more like a URL than markup. You may want to use an HTTP client like requests to get the document behind the URL, and feed that document to Beautiful Soup.\n",
      "  sopa_carhartt = BeautifulSoup(url, \"html.parser\")\n"
     ]
    },
    {
     "ename": "TypeError",
     "evalue": "object of type 'Response' has no len()",
     "output_type": "error",
     "traceback": [
      "\u001b[1;31m---------------------------------------------------------------------------\u001b[0m",
      "\u001b[1;31mTypeError\u001b[0m                                 Traceback (most recent call last)",
      "Cell \u001b[1;32mIn[16], line 16\u001b[0m\n\u001b[0;32m     14\u001b[0m     url2 \u001b[38;5;241m=\u001b[39m \u001b[38;5;124mf\u001b[39m\u001b[38;5;124m\"\u001b[39m\u001b[38;5;124mhttps://www.carhartt-wip.com/es/hombre-seasonal-bestseller?page=\u001b[39m\u001b[38;5;132;01m{\u001b[39;00mi\u001b[38;5;132;01m}\u001b[39;00m\u001b[38;5;124m&country=es&trc_gcmp_id=893283967&trc_gag_id=43357011583&trc_gad_id=610673713591&gad_source=1&_gl=1*1ym8cvj*_up*MQ..&gclid=Cj0KCQiA57G5BhDUARIsACgCYnwVt7WqAJ6AdZO0T0lx5oNyOCrdvR5rjgFp-mHF9eFAU34EROA4BPkaAjRlEALw_wcB\u001b[39m\u001b[38;5;124m\"\u001b[39m\n\u001b[0;32m     15\u001b[0m     res_url2 \u001b[38;5;241m=\u001b[39m requests\u001b[38;5;241m.\u001b[39mget(url2,\u001b[38;5;124m\"\u001b[39m\u001b[38;5;124mhtml.parser\u001b[39m\u001b[38;5;124m\"\u001b[39m)\n\u001b[1;32m---> 16\u001b[0m     sopi \u001b[38;5;241m=\u001b[39m \u001b[43mBeautifulSoup\u001b[49m\u001b[43m(\u001b[49m\u001b[43mres_url2\u001b[49m\u001b[43m)\u001b[49m\n\u001b[0;32m     17\u001b[0m     sopas\u001b[38;5;241m.\u001b[39mappend(sopi)\n\u001b[0;32m     19\u001b[0m \u001b[38;5;28mprint\u001b[39m(\u001b[38;5;28mlen\u001b[39m(sopas))\n",
      "File \u001b[1;32mc:\\Users\\Víctor\\Desktop\\.conda\\Lib\\site-packages\\bs4\\__init__.py:315\u001b[0m, in \u001b[0;36mBeautifulSoup.__init__\u001b[1;34m(self, markup, features, builder, parse_only, from_encoding, exclude_encodings, element_classes, **kwargs)\u001b[0m\n\u001b[0;32m    313\u001b[0m \u001b[38;5;28;01mif\u001b[39;00m \u001b[38;5;28mhasattr\u001b[39m(markup, \u001b[38;5;124m'\u001b[39m\u001b[38;5;124mread\u001b[39m\u001b[38;5;124m'\u001b[39m):        \u001b[38;5;66;03m# It's a file-type object.\u001b[39;00m\n\u001b[0;32m    314\u001b[0m     markup \u001b[38;5;241m=\u001b[39m markup\u001b[38;5;241m.\u001b[39mread()\n\u001b[1;32m--> 315\u001b[0m \u001b[38;5;28;01melif\u001b[39;00m \u001b[38;5;28mlen\u001b[39m(markup) \u001b[38;5;241m<\u001b[39m\u001b[38;5;241m=\u001b[39m \u001b[38;5;241m256\u001b[39m \u001b[38;5;129;01mand\u001b[39;00m (\n\u001b[0;32m    316\u001b[0m         (\u001b[38;5;28misinstance\u001b[39m(markup, \u001b[38;5;28mbytes\u001b[39m) \u001b[38;5;129;01mand\u001b[39;00m \u001b[38;5;129;01mnot\u001b[39;00m \u001b[38;5;124mb\u001b[39m\u001b[38;5;124m'\u001b[39m\u001b[38;5;124m<\u001b[39m\u001b[38;5;124m'\u001b[39m \u001b[38;5;129;01min\u001b[39;00m markup)\n\u001b[0;32m    317\u001b[0m         \u001b[38;5;129;01mor\u001b[39;00m (\u001b[38;5;28misinstance\u001b[39m(markup, \u001b[38;5;28mstr\u001b[39m) \u001b[38;5;129;01mand\u001b[39;00m \u001b[38;5;129;01mnot\u001b[39;00m \u001b[38;5;124m'\u001b[39m\u001b[38;5;124m<\u001b[39m\u001b[38;5;124m'\u001b[39m \u001b[38;5;129;01min\u001b[39;00m markup)\n\u001b[0;32m    318\u001b[0m ):\n\u001b[0;32m    319\u001b[0m     \u001b[38;5;66;03m# Issue warnings for a couple beginner problems\u001b[39;00m\n\u001b[0;32m    320\u001b[0m     \u001b[38;5;66;03m# involving passing non-markup to Beautiful Soup.\u001b[39;00m\n\u001b[0;32m    321\u001b[0m     \u001b[38;5;66;03m# Beautiful Soup will still parse the input as markup,\u001b[39;00m\n\u001b[0;32m    322\u001b[0m     \u001b[38;5;66;03m# since that is sometimes the intended behavior.\u001b[39;00m\n\u001b[0;32m    323\u001b[0m     \u001b[38;5;28;01mif\u001b[39;00m \u001b[38;5;129;01mnot\u001b[39;00m \u001b[38;5;28mself\u001b[39m\u001b[38;5;241m.\u001b[39m_markup_is_url(markup):\n\u001b[0;32m    324\u001b[0m         \u001b[38;5;28mself\u001b[39m\u001b[38;5;241m.\u001b[39m_markup_resembles_filename(markup)                \n",
      "\u001b[1;31mTypeError\u001b[0m: object of type 'Response' has no len()"
     ]
    }
   ],
   "source": [
    "\n",
    "#Accedemos a la página\n",
    "\n",
    "url = \"https://www.carhartt-wip.com/es/hombre-seasonal-bestseller?country=es&trc_gcmp_id=893283967&trc_gag_id=43357011583&trc_gad_id=610673713591&gad_source=1&gclid=Cj0KCQiA57G5BhDUARIsACgCYnwVt7WqAJ6AdZO0T0lx5oNyOCrdvR5rjgFp-mHF9eFAU34EROA4BPkaAjRlEALw_wcB\"\n",
    "url2 = \"https://www.carhartt-wip.com/es/hombre-seasonal-bestseller?page=2&country=es&trc_gcmp_id=893283967&trc_gag_id=43357011583&trc_gad_id=610673713591&gad_source=1&_gl=1*1ym8cvj*_up*MQ..&gclid=Cj0KCQiA57G5BhDUARIsACgCYnwVt7WqAJ6AdZO0T0lx5oNyOCrdvR5rjgFp-mHF9eFAU34EROA4BPkaAjRlEALw_wcB\"\n",
    "\n",
    "\n",
    "sopa_carhartt = BeautifulSoup(url, \"html.parser\")\n",
    "\n",
    "sopas = []\n",
    "res_url = requests.get(url,\"html.parser\")\n",
    "sopas.append(sopa_carhartt)\n",
    "\n",
    "for i in range(1,5):\n",
    "    url2 = f\"https://www.carhartt-wip.com/es/hombre-seasonal-bestseller?page={i}&country=es&trc_gcmp_id=893283967&trc_gag_id=43357011583&trc_gad_id=610673713591&gad_source=1&_gl=1*1ym8cvj*_up*MQ..&gclid=Cj0KCQiA57G5BhDUARIsACgCYnwVt7WqAJ6AdZO0T0lx5oNyOCrdvR5rjgFp-mHF9eFAU34EROA4BPkaAjRlEALw_wcB\"\n",
    "    res_url2 = requests.get(url2,\"html.parser\")\n",
    "    sopi = BeautifulSoup(res_url2)\n",
    "    sopas.append(sopi)\n",
    "\n",
    "print(len(sopas))"
   ]
  },
  {
   "cell_type": "code",
   "execution_count": 17,
   "metadata": {},
   "outputs": [
    {
     "name": "stdout",
     "output_type": "stream",
     "text": [
      "Se procesaron 4 páginas.\n"
     ]
    }
   ],
   "source": [
    "import requests\n",
    "from bs4 import BeautifulSoup\n",
    "\n",
    "# Lista de URLs\n",
    "urls = [\n",
    "    \"https://www.carhartt-wip.com/es/hombre-seasonal-bestseller?country=es&trc_gcmp_id=893283967&trc_gag_id=43357011583&trc_gad_id=610673713591&gad_source=1&gclid=Cj0KCQiA57G5BhDUARIsACgCYnwVt7WqAJ6AdZO0T0lx5oNyOCrdvR5rjgFp-mHF9eFAU34EROA4BPkaAjRlEALw_wcB\",\n",
    "    \"https://www.carhartt-wip.com/es/hombre-seasonal-bestseller?page=2&country=es&trc_gcmp_id=893283967&trc_gag_id=43357011583&trc_gad_id=610673713591&gad_source=1&_gl=1*1ym8cvj*_up*MQ..&gclid=Cj0KCQiA57G5BhDUARIsACgCYnwVt7WqAJ6AdZO0T0lx5oNyOCrdvR5rjgFp-mHF9eFAU34EROA4BPkaAjRlEALw_wcB\"\n",
    "]\n",
    "\n",
    "# Iniciar lista de BeautifulSoup\n",
    "sopas = []\n",
    "\n",
    "# Procesar la primera URL\n",
    "res_url = requests.get(urls[0])\n",
    "if res_url.status_code == 200:  # Verificar si la solicitud fue exitosa\n",
    "    sopa_carhartt = BeautifulSoup(res_url.content, \"html.parser\")\n",
    "    sopas.append(sopa_carhartt)\n",
    "\n",
    "# Procesar las siguientes páginas\n",
    "for i in range(2, 5):  # Página 2 a 5\n",
    "    url2 = f\"https://www.carhartt-wip.com/es/hombre-seasonal-bestseller?page={i}&country=es&trc_gcmp_id=893283967&trc_gag_id=43357011583&trc_gad_id=610673713591&gad_source=1&_gl=1*1ym8cvj*_up*MQ..&gclid=Cj0KCQiA57G5BhDUARIsACgCYnwVt7WqAJ6AdZO0T0lx5oNyOCrdvR5rjgFp-mHF9eFAU34EROA4BPkaAjRlEALw_wcB\"\n",
    "    res_url2 = requests.get(url2)\n",
    "    if res_url2.status_code == 200:  # Verificar si la solicitud fue exitosa\n",
    "        sopi = BeautifulSoup(res_url2.content, \"html.parser\")\n",
    "        sopas.append(sopi)\n",
    "\n",
    "# Verificar cuántas páginas fueron procesadas\n",
    "print(f\"Se procesaron {len(sopas)} páginas.\")\n"
   ]
  }
 ],
 "metadata": {
  "kernelspec": {
   "display_name": "Python 3",
   "language": "python",
   "name": "python3"
  },
  "language_info": {
   "codemirror_mode": {
    "name": "ipython",
    "version": 3
   },
   "file_extension": ".py",
   "mimetype": "text/x-python",
   "name": "python",
   "nbconvert_exporter": "python",
   "pygments_lexer": "ipython3",
   "version": "3.11.10"
  }
 },
 "nbformat": 4,
 "nbformat_minor": 2
}
